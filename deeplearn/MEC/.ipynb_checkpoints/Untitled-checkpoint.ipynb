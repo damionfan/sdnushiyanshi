{
 "cells": [
  {
   "cell_type": "markdown",
   "metadata": {},
   "source": [
    "MEC加速尝试 Python实现"
   ]
  },
  {
   "cell_type": "code",
   "execution_count": 4,
   "metadata": {},
   "outputs": [
    {
     "name": "stdout",
     "output_type": "stream",
     "text": [
      "[[0 0 0 0 0 0 0]\n",
      " [0 2 2 1 1 2 0]\n",
      " [0 2 0 1 1 0 0]\n",
      " [0 2 0 1 2 0 0]\n",
      " [0 1 1 1 1 1 0]\n",
      " [0 0 0 1 0 2 0]\n",
      " [0 0 0 0 0 0 0]]\n",
      "[[ 1  0  0]\n",
      " [ 1  1  1]\n",
      " [ 1  0 -1]]\n"
     ]
    }
   ],
   "source": [
    "import numpy as np\n",
    "from scipy import sparse\n",
    "\n",
    "In = np.array([[0,0,0,0,0,0,0],[0,2,2,1,1,2,0],[0,2,0,1,1,0,0,],[0,2,0,1,2,0,0],[0,1,1,1,1,1,0],[0,0,0,1,0,2,0],[0,0,0,0,0,0,0]])\n",
    "fitter = np.array([[1,0,0],[1,1,1],[1,0,-1]])\n",
    "print(In)\n",
    "print(fitter)"
   ]
  },
  {
   "cell_type": "code",
   "execution_count": 5,
   "metadata": {},
   "outputs": [],
   "source": [
    "def mec_conv2D(In,fitter):\n",
    "    #数据维度转换\n",
    "    I = In.shape\n",
    "    K = fitter.shape\n",
    "    s = 1\n",
    "    Ow = I[0]*K[0]\n",
    "    Oh = int(((I[1]-K[1])/s) +1)\n",
    "    O = np.zeros((int(Oh),int(Ow)))\n",
    "    w = 0\n",
    "    h=0\n",
    "    i=0\n",
    "    for oh in range(Oh):\n",
    "        for ow in range(Ow):\n",
    "            if w<K[1]+i:\n",
    "                O[oh][ow] = In[h][w]\n",
    "                w+=1\n",
    "                if w == K[1]+i:\n",
    "                    w=i\n",
    "                    h+=1\n",
    "                if h == I[0]:\n",
    "                        h=0\n",
    "        i+=1\n",
    "        w+=1\n",
    "    #print(O)\n",
    "    #print(O.shape)\n",
    "\n",
    "    #卷积核的维度转换\n",
    "    Kk=np.zeros((K[0]*K[1],1))\n",
    "    i=0\n",
    "    for k1 in range(K[0]):\n",
    "        for k2 in range(K[1]):\n",
    "            Kk[i][0] = fitter[k1][k2]\n",
    "            i+=1\n",
    "    #print(Kk)\n",
    "    #print(Kk.shape)\n",
    "    \n",
    "    #维度转换后进行数据的计算\n",
    "    #MEC转换成为数据之后，进行计算之前确定0值，虽然增加了矩阵运算的数目但是减少乘法运算的次数\n",
    "    o_w = int(((I[1]-K[1])/s) +1)\n",
    "    o_h = int(((Ow-K[0]*K[1])/K[0])+1)\n",
    "    k_shape = Kk.shape\n",
    "    out = np.zeros((o_h,o_w))\n",
    "    x,l = 0,0\n",
    "    n = 0\n",
    "    for i in range(o_h):\n",
    "        for j in range(o_w):\n",
    "            for k in range(k_shape[0]):\n",
    "                if Kk[k][0] !=0 and O[x][l] !=0:\n",
    "                    out[i][j] += Kk[k][0] * O[x][l]  \n",
    "                l+=1\n",
    "            l=n\n",
    "            x+=1\n",
    "        x=0\n",
    "        n+=3\n",
    "        l=n\n",
    "    \n",
    "    print(out)"
   ]
  },
  {
   "cell_type": "code",
   "execution_count": 6,
   "metadata": {},
   "outputs": [
    {
     "name": "stdout",
     "output_type": "stream",
     "text": [
      "[[4. 6. 3. 5. 4.]\n",
      " [2. 6. 2. 4. 4.]\n",
      " [1. 5. 3. 4. 4.]\n",
      " [2. 4. 3. 3. 4.]\n",
      " [0. 2. 2. 4. 3.]]\n"
     ]
    }
   ],
   "source": [
    "mec_conv2D(In,fitter)#终于复现了论文代码"
   ]
  },
  {
   "cell_type": "code",
   "execution_count": null,
   "metadata": {},
   "outputs": [],
   "source": []
  },
  {
   "cell_type": "code",
   "execution_count": 7,
   "metadata": {},
   "outputs": [],
   "source": [
    "#筛选数据，筛选稀疏数据\n",
    "def cool_matrix(In):\n",
    "    in_shape = In.shape\n",
    "    row=[]\n",
    "    col=[]\n",
    "    data=[]\n",
    "    for i in range(in_shape[0]):\n",
    "        for j in range(in_shape[1]):\n",
    "            if In[i][j] != 0:\n",
    "                row.append(i)\n",
    "                col.append(j)\n",
    "                data.append(In[i][j])\n",
    "    return row,col,data"
   ]
  },
  {
   "cell_type": "code",
   "execution_count": 8,
   "metadata": {},
   "outputs": [],
   "source": [
    "row,col,data=cool_matrix(In)\n",
    "c = sparse.coo_matrix((data,(row,col)),shape=(7,7))"
   ]
  },
  {
   "cell_type": "code",
   "execution_count": 28,
   "metadata": {},
   "outputs": [
    {
     "name": "stdout",
     "output_type": "stream",
     "text": [
      "[[0 0 0 0 0 0 0]\n",
      " [0 2 2 1 1 2 0]\n",
      " [0 2 0 1 1 0 0]\n",
      " [0 2 0 1 2 0 0]\n",
      " [0 1 1 1 1 1 0]\n",
      " [0 0 0 1 0 2 0]\n",
      " [0 0 0 0 0 0 0]]\n"
     ]
    }
   ],
   "source": [
    "print(c.toarray())"
   ]
  },
  {
   "cell_type": "code",
   "execution_count": null,
   "metadata": {},
   "outputs": [],
   "source": []
  },
  {
   "cell_type": "code",
   "execution_count": 48,
   "metadata": {},
   "outputs": [
    {
     "name": "stdout",
     "output_type": "stream",
     "text": [
      "[[0. 0. 0. 0. 2. 2. 0. 2. 0. 0. 2. 0. 0. 1. 1. 0. 0. 0. 0. 0. 0.]\n",
      " [0. 0. 0. 2. 2. 1. 2. 0. 1. 2. 0. 1. 1. 1. 1. 0. 0. 1. 0. 0. 0.]\n",
      " [0. 0. 0. 2. 1. 1. 0. 1. 1. 0. 1. 2. 1. 1. 1. 0. 1. 0. 0. 0. 0.]\n",
      " [0. 0. 0. 1. 1. 2. 1. 1. 0. 1. 2. 0. 1. 1. 1. 1. 0. 2. 0. 0. 0.]\n",
      " [0. 0. 0. 1. 2. 0. 1. 0. 0. 2. 0. 0. 1. 1. 0. 0. 2. 0. 0. 0. 0.]]\n",
      "[[ 1.]\n",
      " [ 0.]\n",
      " [ 0.]\n",
      " [ 1.]\n",
      " [ 1.]\n",
      " [ 1.]\n",
      " [ 1.]\n",
      " [ 0.]\n",
      " [-1.]]\n"
     ]
    }
   ],
   "source": [
    "\n",
    "#print(Kk.shape)"
   ]
  },
  {
   "cell_type": "code",
   "execution_count": 46,
   "metadata": {},
   "outputs": [
    {
     "name": "stdout",
     "output_type": "stream",
     "text": [
      "[[0. 0. 0. 0. 2. 2. 0. 2. 0.]\n",
      " [0. 0. 0. 2. 2. 1. 2. 0. 1.]\n",
      " [0. 0. 0. 2. 1. 1. 0. 1. 1.]\n",
      " [0. 0. 0. 1. 1. 2. 1. 1. 0.]\n",
      " [0. 0. 0. 1. 2. 0. 1. 0. 0.]]\n",
      "[0, 0, 0, 1, 1, 1, 1, 1, 2, 2, 2, 2, 2, 3, 3, 3, 3, 3, 4, 4, 4] [4, 5, 7, 3, 4, 5, 6, 8, 3, 4, 5, 7, 8, 3, 4, 5, 6, 7, 3, 4, 6] [2.0, 2.0, 2.0, 2.0, 2.0, 1.0, 2.0, 1.0, 2.0, 1.0, 1.0, 1.0, 1.0, 1.0, 1.0, 2.0, 1.0, 1.0, 1.0, 2.0, 1.0]\n"
     ]
    }
   ],
   "source": []
  },
  {
   "cell_type": "code",
   "execution_count": 70,
   "metadata": {},
   "outputs": [],
   "source": [
    "def row_num(row,col,data,Kk):\n",
    "    out=np.zeros(5)\n",
    "    l=0\n",
    "    i=0\n",
    "    for j in col:\n",
    "        i=row[l]\n",
    "        out[i] += data[l] *  Kk[j][0]\n",
    "        l+=1    \n",
    "    return out"
   ]
  },
  {
   "cell_type": "code",
   "execution_count": 75,
   "metadata": {},
   "outputs": [],
   "source": [
    "def new_mec_conv2D(In,fitter):\n",
    "    I = In.shape\n",
    "    K = fitter.shape\n",
    "    s = 1\n",
    "    Ow = I[0]*K[0]\n",
    "    Oh = int(((I[1]-K[1])/s) +1)\n",
    "    O = np.zeros((int(Oh),int(Ow)))\n",
    "    w = 0\n",
    "    h=0\n",
    "    i=0\n",
    "    for oh in range(Oh):\n",
    "        for ow in range(Ow):\n",
    "            if w<K[1]+i:\n",
    "                O[oh][ow] = In[h][w]\n",
    "                w+=1\n",
    "                if w == K[1]+i:\n",
    "                    w=i\n",
    "                    h+=1\n",
    "                if h == I[0]:\n",
    "                        h=0\n",
    "        i+=1\n",
    "        w+=1\n",
    "    #print(O)\n",
    "    #print(O.shape)\n",
    "\n",
    "    #卷积核的维度转换\n",
    "    Kk=np.zeros((K[0]*K[1],1))\n",
    "    i=0\n",
    "    for k1 in range(K[0]):\n",
    "        for k2 in range(K[1]):\n",
    "            Kk[i][0] = fitter[k1][k2]\n",
    "            i+=1\n",
    "   # print(Kk)\n",
    "    temp = np.zeros((5,5,9))\n",
    "    q,l,n=0,0,0\n",
    "    for x in range(5):\n",
    "        for i in range(5):\n",
    "            for j in range(9):\n",
    "                temp[x][i][j] = O[q][l] \n",
    "                l+=1\n",
    "            l=n\n",
    "            q+=1\n",
    "        q=0\n",
    "        n+=3\n",
    "        l=n\n",
    "    #print(temp[0])\n",
    "    n = temp.shape\n",
    "    out=np.zeros((5,5))\n",
    "    for i in range(n[0]):\n",
    "        row,col,data=cool_matrix(temp[i])\n",
    "        #print(row)\n",
    "        out[i] = row_num(row,col,data,Kk)\n",
    "    print(out)"
   ]
  },
  {
   "cell_type": "code",
   "execution_count": 76,
   "metadata": {},
   "outputs": [
    {
     "name": "stdout",
     "output_type": "stream",
     "text": [
      "[[4. 6. 3. 5. 4.]\n",
      " [2. 6. 2. 4. 4.]\n",
      " [1. 5. 3. 4. 4.]\n",
      " [2. 4. 3. 3. 4.]\n",
      " [0. 2. 2. 4. 3.]]\n"
     ]
    }
   ],
   "source": [
    "new_mec_conv2D(In,fitter)   #CPU实现了自己的想法"
   ]
  },
  {
   "cell_type": "code",
   "execution_count": null,
   "metadata": {},
   "outputs": [],
   "source": []
  }
 ],
 "metadata": {
  "kernelspec": {
   "display_name": "Python 3",
   "language": "python",
   "name": "python3"
  },
  "language_info": {
   "codemirror_mode": {
    "name": "ipython",
    "version": 3
   },
   "file_extension": ".py",
   "mimetype": "text/x-python",
   "name": "python",
   "nbconvert_exporter": "python",
   "pygments_lexer": "ipython3",
   "version": "3.6.4"
  }
 },
 "nbformat": 4,
 "nbformat_minor": 2
}
