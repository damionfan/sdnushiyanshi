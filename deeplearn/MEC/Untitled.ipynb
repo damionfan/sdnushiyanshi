{
 "cells": [
  {
   "cell_type": "markdown",
   "metadata": {},
   "source": [
    "MEC加速尝试 Python实现"
   ]
  },
  {
   "cell_type": "code",
   "execution_count": 4,
   "metadata": {},
   "outputs": [
    {
     "name": "stdout",
     "output_type": "stream",
     "text": [
      "[[0 0 0 0 0 0 0]\n",
      " [0 2 2 1 1 2 0]\n",
      " [0 2 0 1 1 0 0]\n",
      " [0 2 0 1 2 0 0]\n",
      " [0 1 1 1 1 1 0]\n",
      " [0 0 0 1 0 2 0]\n",
      " [0 0 0 0 0 0 0]]\n",
      "[[ 1  0  0]\n",
      " [ 1  1  1]\n",
      " [ 1  0 -1]]\n"
     ]
    }
   ],
   "source": [
    "import numpy as np\n",
    "from scipy import sparse\n",
    "\n",
    "In = np.array([[0,0,0,0,0,0,0],[0,2,2,1,1,2,0],[0,2,0,1,1,0,0,],[0,2,0,1,2,0,0],[0,1,1,1,1,1,0],[0,0,0,1,0,2,0],[0,0,0,0,0,0,0]])\n",
    "fitter = np.array([[1,0,0],[1,1,1],[1,0,-1]])\n",
    "print(In)\n",
    "print(fitter)"
   ]
  },
  {
   "cell_type": "code",
   "execution_count": 2,
   "metadata": {},
   "outputs": [],
   "source": [
    "def mec_conv2D(In,fitter):\n",
    "    #数据维度转换\n",
    "    I = In.shape\n",
    "    K = fitter.shape\n",
    "    s = 1\n",
    "    Ow = I[0]*K[0]\n",
    "    Oh = int(((I[1]-K[1])/s) +1)\n",
    "    O = np.zeros((int(Oh),int(Ow)))\n",
    "    w = 0\n",
    "    h=0\n",
    "    i=0\n",
    "    for oh in range(Oh):\n",
    "        for ow in range(Ow):\n",
    "            if w<K[1]+i:\n",
    "                O[oh][ow] = In[h][w]\n",
    "                w+=1\n",
    "                if w == K[1]+i:\n",
    "                    w=i\n",
    "                    h+=1\n",
    "                if h == I[0]:\n",
    "                        h=0\n",
    "        i+=1\n",
    "        w+=1\n",
    "    #print(O)\n",
    "    #print(O.shape)\n",
    "\n",
    "    #卷积核的维度转换\n",
    "    Kk=np.zeros((K[0]*K[1],1))\n",
    "    i=0\n",
    "    for k1 in range(K[0]):\n",
    "        for k2 in range(K[1]):\n",
    "            Kk[i][0] = fitter[k1][k2]\n",
    "            i+=1\n",
    "    #print(Kk)\n",
    "    #print(Kk.shape)\n",
    "    \n",
    "    #维度转换后进行数据的计算\n",
    "    #MEC转换成为数据之后，进行计算之前确定0值，虽然增加了矩阵运算的数目但是减少乘法运算的次数\n",
    "    o_w = int(((I[1]-K[1])/s) +1)\n",
    "    o_h = int(((Ow-K[0]*K[1])/K[0])+1)\n",
    "    k_shape = Kk.shape\n",
    "    out = np.zeros((o_h,o_w))\n",
    "    x,l = 0,0\n",
    "    n = 0\n",
    "    for i in range(o_h):\n",
    "        for j in range(o_w):\n",
    "            for k in range(k_shape[0]):\n",
    "                #if Kk[k][0] !=0 and O[x][l] !=0:\n",
    "                out[i][j] += Kk[k][0] * O[x][l]  \n",
    "                l+=1\n",
    "            l=n\n",
    "            x+=1\n",
    "        x=0\n",
    "        n+=3\n",
    "        l=n  \n",
    "    #print(out)"
   ]
  },
  {
   "cell_type": "code",
   "execution_count": 3,
   "metadata": {},
   "outputs": [],
   "source": [
    "mec_conv2D(In,fitter)#终于复现了论文代码"
   ]
  },
  {
   "cell_type": "code",
   "execution_count": 9,
   "metadata": {},
   "outputs": [
    {
     "name": "stdout",
     "output_type": "stream",
     "text": [
      "[[0. 0. 0. 0. 2. 2. 0. 2. 0. 0. 2. 0. 0. 1. 1. 0. 0. 0. 0. 0. 0.]\n",
      " [0. 0. 0. 2. 2. 1. 2. 0. 1. 2. 0. 1. 1. 1. 1. 0. 0. 1. 0. 0. 0.]\n",
      " [0. 0. 0. 2. 1. 1. 0. 1. 1. 0. 1. 2. 1. 1. 1. 0. 1. 0. 0. 0. 0.]\n",
      " [0. 0. 0. 1. 1. 2. 1. 1. 0. 1. 2. 0. 1. 1. 1. 1. 0. 2. 0. 0. 0.]\n",
      " [0. 0. 0. 1. 2. 0. 1. 0. 0. 2. 0. 0. 1. 1. 0. 0. 2. 0. 0. 0. 0.]]\n",
      "[[ 1.]\n",
      " [ 0.]\n",
      " [ 0.]\n",
      " [ 1.]\n",
      " [ 1.]\n",
      " [ 1.]\n",
      " [ 1.]\n",
      " [ 0.]\n",
      " [-1.]]\n"
     ]
    }
   ],
   "source": [
    "def mec_conv2D_v2(In,fitter):\n",
    "    #数据维度转换\n",
    "    I = In.shape\n",
    "    K = fitter.shape\n",
    "    s = 1\n",
    "    Ow = I[0]*K[0]\n",
    "    Oh = int(((I[1]-K[1])/s) +1)\n",
    "    O = np.zeros((int(Oh),int(Ow)))\n",
    "    w = 0\n",
    "    h=0\n",
    "    i=0\n",
    "    for oh in range(Oh):\n",
    "        for ow in range(Ow):\n",
    "            if w<K[1]+i:\n",
    "                O[oh][ow] = In[h][w]\n",
    "                w+=1\n",
    "                if w == K[1]+i:\n",
    "                    w=i\n",
    "                    h+=1\n",
    "                if h == I[0]:\n",
    "                        h=0\n",
    "        i+=1\n",
    "        w+=1\n",
    "    print(O)\n",
    "    #print(O.shape)\n",
    "\n",
    "    #卷积核的维度转换\n",
    "    Kk=np.zeros((K[0]*K[1],1))\n",
    "    i=0\n",
    "    for k1 in range(K[0]):\n",
    "        for k2 in range(K[1]):\n",
    "            Kk[i][0] = fitter[k1][k2]\n",
    "            i+=1\n",
    "    print(Kk)\n",
    "    #print(Kk.shape)\n",
    "    \n",
    "    #维度转换后进行数据的计算\n",
    "    #MEC转换成为数据之后，进行计算之前确定0值，虽然增加了矩阵运算的数目但是减少乘法运算的次数\n",
    "    o_w = int(((I[1]-K[1])/s) +1)\n",
    "    o_h = int(((Ow-K[0]*K[1])/K[0])+1)\n",
    "    k_shape = Kk.shape\n",
    "    out = np.zeros((o_h,o_w))\n",
    "    x,l = 0,0\n",
    "    n = 0\n",
    "    for i in range(o_h):\n",
    "        for j in range(o_w):\n",
    "            for k in range(k_shape[0]):\n",
    "                #if Kk[k][0] !=0 and O[x][l] !=0:\n",
    "                out[i][j] += Kk[k][0] * O[x][l]  \n",
    "                l+=1\n",
    "            l=n\n",
    "            x+=1\n",
    "        x=0\n",
    "        n+=3\n",
    "        l=n  \n",
    "    #print(out)\n",
    "mec_conv2D_v2(In,fitter)"
   ]
  },
  {
   "cell_type": "code",
   "execution_count": 4,
   "metadata": {},
   "outputs": [],
   "source": [
    "#筛选数据，筛选稀疏数据\n",
    "def cool_matrix(In):\n",
    "    in_shape = In.shape\n",
    "    row=[]\n",
    "    col=[]\n",
    "    data=[]\n",
    "    for i in range(in_shape[0]):\n",
    "        for j in range(in_shape[1]):\n",
    "            if In[i][j] != 0:\n",
    "                row.append(i)\n",
    "                col.append(j)\n",
    "                data.append(In[i][j])\n",
    "    return row,col,data"
   ]
  },
  {
   "cell_type": "code",
   "execution_count": 5,
   "metadata": {},
   "outputs": [],
   "source": [
    "row,col,data=cool_matrix(In)\n",
    "c = sparse.coo_matrix((data,(row,col)),shape=(7,7))"
   ]
  },
  {
   "cell_type": "code",
   "execution_count": 6,
   "metadata": {},
   "outputs": [
    {
     "name": "stdout",
     "output_type": "stream",
     "text": [
      "[[0 0 0 0 0 0 0]\n",
      " [0 2 2 1 1 2 0]\n",
      " [0 2 0 1 1 0 0]\n",
      " [0 2 0 1 2 0 0]\n",
      " [0 1 1 1 1 1 0]\n",
      " [0 0 0 1 0 2 0]\n",
      " [0 0 0 0 0 0 0]]\n"
     ]
    }
   ],
   "source": [
    "print(c.toarray())"
   ]
  },
  {
   "cell_type": "code",
   "execution_count": null,
   "metadata": {},
   "outputs": [],
   "source": []
  },
  {
   "cell_type": "code",
   "execution_count": 7,
   "metadata": {},
   "outputs": [],
   "source": [
    "\n",
    "#print(Kk.shape)"
   ]
  },
  {
   "cell_type": "code",
   "execution_count": null,
   "metadata": {},
   "outputs": [],
   "source": []
  },
  {
   "cell_type": "code",
   "execution_count": 8,
   "metadata": {},
   "outputs": [],
   "source": [
    "def row_num(row,col,data,Kk):\n",
    "    out=np.zeros(5)\n",
    "    l=0\n",
    "    i=0\n",
    "    for j in col:\n",
    "        i=row[l]\n",
    "        out[i] += data[l] *  Kk[j][0]\n",
    "        l+=1    \n",
    "    return out"
   ]
  },
  {
   "cell_type": "code",
   "execution_count": 7,
   "metadata": {},
   "outputs": [],
   "source": [
    "def new_mec_conv2D(In,fitter):\n",
    "    I = In.shape\n",
    "    K = fitter.shape\n",
    "    s = 1\n",
    "    Ow = I[0]*K[0]\n",
    "    Oh = int(((I[1]-K[1])/s) +1)\n",
    "    O = np.zeros((int(Oh),int(Ow)))\n",
    "    w = 0\n",
    "    h=0\n",
    "    i=0\n",
    "    for oh in range(Oh):\n",
    "        for ow in range(Ow):\n",
    "            if w<K[1]+i:\n",
    "                O[oh][ow] = In[h][w]\n",
    "                w+=1\n",
    "                if w == K[1]+i:\n",
    "                    w=i\n",
    "                    h+=1\n",
    "                if h == I[0]:\n",
    "                        h=0\n",
    "        i+=1\n",
    "        w+=1\n",
    "    print(O)\n",
    "    #print(O.shape)\n",
    "\n",
    "    #卷积核的维度转换\n",
    "    Kk=np.zeros((K[0]*K[1],1))\n",
    "    i=0\n",
    "    for k1 in range(K[0]):\n",
    "        for k2 in range(K[1]):\n",
    "            Kk[i][0] = fitter[k1][k2]\n",
    "            i+=1\n",
    "    temp = np.zeros((5,5,9))\n",
    "    q,l,n=0,0,0\n",
    "    for x in range(5):\n",
    "        for i in range(5):\n",
    "            for j in range(9):\n",
    "                temp[x][i][j] = O[q][l] \n",
    "                l+=1\n",
    "            l=n\n",
    "            q+=1\n",
    "        q=0\n",
    "        n+=3\n",
    "        l=n\n",
    "    #print(temp[0])\n",
    "    n = temp.shape\n",
    "    out=np.zeros((5,5))\n",
    "    for i in range(n[0]):\n",
    "        row,col,data=cool_matrix(temp[i])\n",
    "        #print(row)\n",
    "        out[i] = row_num(row,col,data,Kk)\n",
    "   # print(out)"
   ]
  },
  {
   "cell_type": "code",
   "execution_count": 8,
   "metadata": {},
   "outputs": [
    {
     "name": "stdout",
     "output_type": "stream",
     "text": [
      "[[0. 0. 0. 0. 2. 2. 0. 2. 0. 0. 2. 0. 0. 1. 1. 0. 0. 0. 0. 0. 0.]\n",
      " [0. 0. 0. 2. 2. 1. 2. 0. 1. 2. 0. 1. 1. 1. 1. 0. 0. 1. 0. 0. 0.]\n",
      " [0. 0. 0. 2. 1. 1. 0. 1. 1. 0. 1. 2. 1. 1. 1. 0. 1. 0. 0. 0. 0.]\n",
      " [0. 0. 0. 1. 1. 2. 1. 1. 0. 1. 2. 0. 1. 1. 1. 1. 0. 2. 0. 0. 0.]\n",
      " [0. 0. 0. 1. 2. 0. 1. 0. 0. 2. 0. 0. 1. 1. 0. 0. 2. 0. 0. 0. 0.]]\n"
     ]
    },
    {
     "ename": "NameError",
     "evalue": "name 'cool_matrix' is not defined",
     "output_type": "error",
     "traceback": [
      "\u001b[0;31m---------------------------------------------------------------------------\u001b[0m",
      "\u001b[0;31mNameError\u001b[0m                                 Traceback (most recent call last)",
      "\u001b[0;32m<ipython-input-8-04e2d04a2127>\u001b[0m in \u001b[0;36m<module>\u001b[0;34m()\u001b[0m\n\u001b[0;32m----> 1\u001b[0;31m \u001b[0mnew_mec_conv2D\u001b[0m\u001b[0;34m(\u001b[0m\u001b[0mIn\u001b[0m\u001b[0;34m,\u001b[0m\u001b[0mfitter\u001b[0m\u001b[0;34m)\u001b[0m   \u001b[0;31m#CPU实现了自己的想法\u001b[0m\u001b[0;34m\u001b[0m\u001b[0m\n\u001b[0m",
      "\u001b[0;32m<ipython-input-7-7e1eb2cf1ea3>\u001b[0m in \u001b[0;36mnew_mec_conv2D\u001b[0;34m(In, fitter)\u001b[0m\n\u001b[1;32m     47\u001b[0m     \u001b[0mout\u001b[0m\u001b[0;34m=\u001b[0m\u001b[0mnp\u001b[0m\u001b[0;34m.\u001b[0m\u001b[0mzeros\u001b[0m\u001b[0;34m(\u001b[0m\u001b[0;34m(\u001b[0m\u001b[0;36m5\u001b[0m\u001b[0;34m,\u001b[0m\u001b[0;36m5\u001b[0m\u001b[0;34m)\u001b[0m\u001b[0;34m)\u001b[0m\u001b[0;34m\u001b[0m\u001b[0m\n\u001b[1;32m     48\u001b[0m     \u001b[0;32mfor\u001b[0m \u001b[0mi\u001b[0m \u001b[0;32min\u001b[0m \u001b[0mrange\u001b[0m\u001b[0;34m(\u001b[0m\u001b[0mn\u001b[0m\u001b[0;34m[\u001b[0m\u001b[0;36m0\u001b[0m\u001b[0;34m]\u001b[0m\u001b[0;34m)\u001b[0m\u001b[0;34m:\u001b[0m\u001b[0;34m\u001b[0m\u001b[0m\n\u001b[0;32m---> 49\u001b[0;31m         \u001b[0mrow\u001b[0m\u001b[0;34m,\u001b[0m\u001b[0mcol\u001b[0m\u001b[0;34m,\u001b[0m\u001b[0mdata\u001b[0m\u001b[0;34m=\u001b[0m\u001b[0mcool_matrix\u001b[0m\u001b[0;34m(\u001b[0m\u001b[0mtemp\u001b[0m\u001b[0;34m[\u001b[0m\u001b[0mi\u001b[0m\u001b[0;34m]\u001b[0m\u001b[0;34m)\u001b[0m\u001b[0;34m\u001b[0m\u001b[0m\n\u001b[0m\u001b[1;32m     50\u001b[0m         \u001b[0;31m#print(row)\u001b[0m\u001b[0;34m\u001b[0m\u001b[0;34m\u001b[0m\u001b[0m\n\u001b[1;32m     51\u001b[0m         \u001b[0mout\u001b[0m\u001b[0;34m[\u001b[0m\u001b[0mi\u001b[0m\u001b[0;34m]\u001b[0m \u001b[0;34m=\u001b[0m \u001b[0mrow_num\u001b[0m\u001b[0;34m(\u001b[0m\u001b[0mrow\u001b[0m\u001b[0;34m,\u001b[0m\u001b[0mcol\u001b[0m\u001b[0;34m,\u001b[0m\u001b[0mdata\u001b[0m\u001b[0;34m,\u001b[0m\u001b[0mKk\u001b[0m\u001b[0;34m)\u001b[0m\u001b[0;34m\u001b[0m\u001b[0m\n",
      "\u001b[0;31mNameError\u001b[0m: name 'cool_matrix' is not defined"
     ]
    }
   ],
   "source": [
    "new_mec_conv2D(In,fitter)   #CPU实现了自己的想法"
   ]
  },
  {
   "cell_type": "code",
   "execution_count": 14,
   "metadata": {},
   "outputs": [
    {
     "name": "stdout",
     "output_type": "stream",
     "text": [
      "0.0007690000000000197\n",
      "0.001454999999999984\n"
     ]
    }
   ],
   "source": [
    "import time\n",
    "start2 = time.clock()\n",
    "new_mec_conv2D(In,fitter)\n",
    "end2 = time.clock()\n",
    "t2 = end2 - start2\n",
    "\n",
    "start1 = time.clock()\n",
    "mec_conv2D(In,fitter)\n",
    "end1 = time.clock()\n",
    "t1 = end1 - start1\n",
    "\n",
    "print(t1)\n",
    "print(t2)"
   ]
  },
  {
   "cell_type": "code",
   "execution_count": 15,
   "metadata": {},
   "outputs": [],
   "source": [
    "#直接计算在CPU上面耗费的时间相对于矩阵的转换计算的时间少"
   ]
  },
  {
   "cell_type": "code",
   "execution_count": null,
   "metadata": {},
   "outputs": [],
   "source": []
  }
 ],
 "metadata": {
  "kernelspec": {
   "display_name": "Python 3",
   "language": "python",
   "name": "python3"
  },
  "language_info": {
   "codemirror_mode": {
    "name": "ipython",
    "version": 3
   },
   "file_extension": ".py",
   "mimetype": "text/x-python",
   "name": "python",
   "nbconvert_exporter": "python",
   "pygments_lexer": "ipython3",
   "version": "3.6.4"
  }
 },
 "nbformat": 4,
 "nbformat_minor": 2
}
