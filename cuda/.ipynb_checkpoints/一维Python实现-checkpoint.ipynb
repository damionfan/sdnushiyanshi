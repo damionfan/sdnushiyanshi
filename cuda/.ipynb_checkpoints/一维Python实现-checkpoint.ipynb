{
 "cells": [
  {
   "cell_type": "markdown",
   "metadata": {},
   "source": [
    "## 卷积运算的python实现"
   ]
  },
  {
   "cell_type": "code",
   "execution_count": 1,
   "metadata": {},
   "outputs": [],
   "source": [
    "def conv(a,b):\n",
    "    N = len(a);\n",
    "    M = len(b);\n",
    "    YN = N + M -1;\n",
    "    y = [0.0 for i in range(YN)];\n",
    "    #print(y);\n",
    "    for n in range(YN):\n",
    "        for m in range(M):\n",
    "            if 0 <= n - m and n - m <N:\n",
    "                y[n] += a[n - m] * b[m];\n",
    "    return y;"
   ]
  },
  {
   "cell_type": "code",
   "execution_count": 2,
   "metadata": {},
   "outputs": [],
   "source": [
    "import numpy as np\n",
    "def conv2(a,b):\n",
    "    N = len(a);\n",
    "    M = len(b);\n",
    "    YN = N + M -1;\n",
    "    y = [0.0 for i in range(YN)];\n",
    "    b = np.array(b)[::-1];\n",
    "    for n in range(YN):\n",
    "        for m in range(M):\n",
    "            k = n - M + m +1;\n",
    "            if 0 <= k and k < N:\n",
    "                y[n] += a[k] * b[m];\n",
    "    return y;        \n",
    "        "
   ]
  },
  {
   "cell_type": "markdown",
   "metadata": {},
   "source": [
    "测试"
   ]
  },
  {
   "cell_type": "code",
   "execution_count": 3,
   "metadata": {},
   "outputs": [
    {
     "name": "stdout",
     "output_type": "stream",
     "text": [
      "[0.0, 0.0, 1.0, 4.0, 7.0, 6.0]\n",
      "[0 0 1 4 7 6]\n"
     ]
    }
   ],
   "source": [
    "if __name__ == '__main__':\n",
    "    a = [0,1,2,3];\n",
    "    b = [0,1,2];\n",
    "    print(conv(a,b));\n",
    "    print(np.convolve(a,b));"
   ]
  },
  {
   "cell_type": "markdown",
   "metadata": {},
   "source": [
    "FFT计算卷积"
   ]
  },
  {
   "cell_type": "code",
   "execution_count": 4,
   "metadata": {},
   "outputs": [],
   "source": [
    "def convfft(a,b):\n",
    "    N = len(a);\n",
    "    M = len(b);\n",
    "    YN = N + M -1;\n",
    "    FFT_N = 2 ** (int(np.log2(YN)) + 1);\n",
    "    afft = np.fft.fft(a,FFT_N);\n",
    "    bfft = np.fft.fft(b,FFT_N);\n",
    "    abfft = afft*bfft;\n",
    "    y = np.fft.ifft(abfft).real[:YN];\n",
    "    return y;"
   ]
  },
  {
   "cell_type": "markdown",
   "metadata": {},
   "source": [
    "测试"
   ]
  },
  {
   "cell_type": "code",
   "execution_count": 5,
   "metadata": {},
   "outputs": [
    {
     "name": "stdout",
     "output_type": "stream",
     "text": [
      "[1.0, 4.0, 10.0, 16.0, 17.0, 12.0]\n",
      "[ 1.  4. 10. 16. 17. 12.]\n",
      "[ 1  4 10 16 17 12]\n"
     ]
    }
   ],
   "source": [
    "if __name__ == '__main__':\n",
    "    a = [1,2,3,4];\n",
    "    b = [1,2,3];\n",
    "    print(conv2(a,b));\n",
    "    print(convfft(a,b));\n",
    "    print(np.convolve(a,b));"
   ]
  },
  {
   "cell_type": "markdown",
   "metadata": {},
   "source": [
    "比较运行时间"
   ]
  },
  {
   "cell_type": "code",
   "execution_count": null,
   "metadata": {},
   "outputs": [],
   "source": [
    "def time_test():\n",
    "    import time\n",
    "    import matplotlib.pyplot as plt\n",
    "    \n",
    "    def run(func , a, b):\n",
    "        n = 1;\n",
    "        start = time.clock();\n",
    "        for j in range(n):\n",
    "            func(a,b);\n",
    "        end = time.clock();\n",
    "        run_time = end - start;\n",
    "        return run_time/n;\n",
    "    n_list = [];\n",
    "    t1_list = [];\n",
    "    t2_list = [];\n",
    "    t3_list = [];\n",
    "    for i in range(10):\n",
    "        count = i * 1000 +10;\n",
    "        #print(count);\n",
    "        a = np.ones(count);\n",
    "        b = np.ones(count);\n",
    "        t1 = run(conv,a,b);\n",
    "        t2 = run(conv2,a,b);\n",
    "        t3 = run(convfft,a,b);\n",
    "        \n",
    "        n_list.append(count);\n",
    "        t1_list.append(t1);\n",
    "        t2_list.append(t2);\n",
    "        t3_list.append(t3);\n",
    "        \n",
    "        plt.plot(n_list,t1_list,label='conv');\n",
    "        plt.plot(n_list,t2_list,label='conv2');\n",
    "        plt.plot(n_list,t3_list,label='convfft');\n",
    "        \n",
    "        plt.legend();\n",
    "        plt.title(u'convolve times');\n",
    "        plt.ylabel(u'run times(ms/point)');\n",
    "        plt.xlabel(u'length');\n",
    "        plt.show()"
   ]
  },
  {
   "cell_type": "code",
   "execution_count": null,
   "metadata": {},
   "outputs": [],
   "source": [
    "time_test()"
   ]
  },
  {
   "cell_type": "code",
   "execution_count": null,
   "metadata": {},
   "outputs": [],
   "source": []
  },
  {
   "cell_type": "code",
   "execution_count": null,
   "metadata": {},
   "outputs": [],
   "source": []
  }
 ],
 "metadata": {
  "kernelspec": {
   "display_name": "Python 3",
   "language": "python",
   "name": "python3"
  },
  "language_info": {
   "codemirror_mode": {
    "name": "ipython",
    "version": 3
   },
   "file_extension": ".py",
   "mimetype": "text/x-python",
   "name": "python",
   "nbconvert_exporter": "python",
   "pygments_lexer": "ipython3",
   "version": "3.6.4"
  }
 },
 "nbformat": 4,
 "nbformat_minor": 2
}
