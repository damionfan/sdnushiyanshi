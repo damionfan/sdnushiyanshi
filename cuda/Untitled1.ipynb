{
 "cells": [
  {
   "cell_type": "code",
   "execution_count": 35,
   "metadata": {},
   "outputs": [],
   "source": [
    "def conv(A,F):\n",
    "    a = A.shape\n",
    "    f = F.shape\n",
    "    high = a[0] - f[0] +1;\n",
    "    width = a[1] - f[1] +1;\n",
    "    \n",
    "    O = np.zeros([high,width]);\n",
    "    for i in range(high):\n",
    "        for m in range(width):\n",
    "            for l in range(f[0]):\n",
    "                for p in range(f[1]):\n",
    "                    O[i][m] += F[l][p] * A[i+l][m+p];\n",
    "    return O;"
   ]
  },
  {
   "cell_type": "code",
   "execution_count": 36,
   "metadata": {},
   "outputs": [],
   "source": [
    "import numpy as np\n",
    "A = np.array([[10,5,20,20,20],[10,5,20,20,20],[10,5,20,20,20],[10,5,20,20,20],[10,5,20,20,20]],dtype = int);"
   ]
  },
  {
   "cell_type": "code",
   "execution_count": null,
   "metadata": {},
   "outputs": [],
   "source": [
    "print(A.shape);"
   ]
  },
  {
   "cell_type": "code",
   "execution_count": null,
   "metadata": {},
   "outputs": [],
   "source": [
    "B = np.array([[-1,1],[0,5]],dtype = int);"
   ]
  },
  {
   "cell_type": "code",
   "execution_count": null,
   "metadata": {},
   "outputs": [],
   "source": [
    "O = conv(A,B);"
   ]
  },
  {
   "cell_type": "code",
   "execution_count": null,
   "metadata": {},
   "outputs": [],
   "source": [
    "print(O);\n",
    "print(O);"
   ]
  },
  {
   "cell_type": "markdown",
   "metadata": {},
   "source": [
    "# 矩阵方法计算"
   ]
  },
  {
   "cell_type": "code",
   "execution_count": 37,
   "metadata": {},
   "outputs": [],
   "source": [
    "def im2col(mtx,block_size):\n",
    "    mtx_shape = mtx.shape\n",
    "    sx = mtx_shape[0] - block_size[0] + 1;\n",
    "    sy = mtx_shape[1] - block_size[1] + 1;\n",
    "    result = np.empty((block_size[0] * block_size[1],sx * sy));\n",
    "    for i in range(sy):\n",
    "        for j in range(sx):\n",
    "            result[:,i*sx+j] = mtx[j:j+block_size[0],i:i+block_size[1]].ravel(order='F');\n",
    "    return result;\n",
    "def col2im(mtx,image_size,block_size):\n",
    "    p,q = block_size;\n",
    "    sx = image_size[0] - p +1;\n",
    "    sy = image_size[1] - q +1;\n",
    "    result = np.empty(image_size);\n",
    "    weight = np.zeros(image_size);\n",
    "    col =0;\n",
    "    for i in range(sy):\n",
    "        for j in range(sx):\n",
    "            result[j:j +p,i:i+q] +=mtx[:,col].reshape(block_size,order='F');\n",
    "            weight[j:j+p,i:i+q] += np.ones(block_size);\n",
    "            col+=1;\n",
    "    return result/weight;"
   ]
  },
  {
   "cell_type": "code",
   "execution_count": 43,
   "metadata": {},
   "outputs": [
    {
     "name": "stdout",
     "output_type": "stream",
     "text": [
      "[[1. 4. 2. 5.]\n",
      " [4. 7. 5. 5.]\n",
      " [2. 5. 3. 6.]\n",
      " [5. 5. 6. 8.]]\n",
      "[[-1.  0.  1.  5.]]\n",
      "[[26. 26. 31. 41.]]\n",
      "[[26. 31.]\n",
      " [26. 41.]]\n"
     ]
    }
   ],
   "source": [
    "A = np.array([[1,2,3],[4,5,6],[7,5,8]],dtype = int);\n",
    "B = np.array([[-1,1],[0,5]],dtype = int);\n",
    "A1 = im2col(A,(2,2));\n",
    "B1 = im2col(B,(1,1));\n",
    "print(A1)\n",
    "print(B1);\n",
    "C = np.dot(B1,A1);\n",
    "print(C);\n",
    "#C1 = col2im(C,(2,2),(1,1));\n",
    "C2 = conv(A,B);\n",
    "#print(C1);\n",
    "print(C2);"
   ]
  },
  {
   "cell_type": "code",
   "execution_count": null,
   "metadata": {},
   "outputs": [],
   "source": []
  }
 ],
 "metadata": {
  "kernelspec": {
   "display_name": "Python 3",
   "language": "python",
   "name": "python3"
  },
  "language_info": {
   "codemirror_mode": {
    "name": "ipython",
    "version": 3
   },
   "file_extension": ".py",
   "mimetype": "text/x-python",
   "name": "python",
   "nbconvert_exporter": "python",
   "pygments_lexer": "ipython3",
   "version": "3.6.4"
  }
 },
 "nbformat": 4,
 "nbformat_minor": 2
}
