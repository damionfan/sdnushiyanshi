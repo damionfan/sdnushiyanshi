{
 "cells": [
  {
   "cell_type": "code",
   "execution_count": 2,
   "metadata": {},
   "outputs": [
    {
     "ename": "SyntaxError",
     "evalue": "invalid character in identifier (<ipython-input-2-ce52815af883>, line 1)",
     "output_type": "error",
     "traceback": [
      "\u001b[0;36m  File \u001b[0;32m\"<ipython-input-2-ce52815af883>\"\u001b[0;36m, line \u001b[0;32m1\u001b[0m\n\u001b[0;31m    在Python2中，有urlib和urlib2两个库发送请求，到了Python3之后就只剩下urlib了。\u001b[0m\n\u001b[0m                                                        ^\u001b[0m\n\u001b[0;31mSyntaxError\u001b[0m\u001b[0;31m:\u001b[0m invalid character in identifier\n"
     ]
    }
   ],
   "source": [
    "在Python2中，有urlib和urlib2两个库发送请求，到了Python3之后就只剩下urlib了。\n",
    "常用三个模块：\n",
    "    request：基本的http请求模块。\n",
    "    error： 异常处理模块。\n",
    "    parse： 工具模块，常用于拆分、解析、合并等操作。\n",
    "    robotparser： 识别网站的robots.txt文件，判断哪些网站可以爬，那些不能爬。\n",
    "    "
   ]
  },
  {
   "cell_type": "code",
   "execution_count": null,
   "metadata": {},
   "outputs": [],
   "source": []
  }
 ],
 "metadata": {
  "kernelspec": {
   "display_name": "Python 3",
   "language": "python",
   "name": "python3"
  },
  "language_info": {
   "codemirror_mode": {
    "name": "ipython",
    "version": 3
   },
   "file_extension": ".py",
   "mimetype": "text/x-python",
   "name": "python",
   "nbconvert_exporter": "python",
   "pygments_lexer": "ipython3",
   "version": "3.6.4"
  }
 },
 "nbformat": 4,
 "nbformat_minor": 2
}
